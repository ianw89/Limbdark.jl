{
 "cells": [
  {
   "cell_type": "code",
   "execution_count": 1,
   "metadata": {},
   "outputs": [],
   "source": [
    "# Simulate a transit and optimize a fit.\n",
    "# This uses the adaptive time-integrated quadratic-limb-darkening transit model.\n",
    "# The path is a straight line of the planet across the star."
   ]
  },
  {
   "cell_type": "code",
   "execution_count": 2,
   "metadata": {},
   "outputs": [],
   "source": [
    "# Load in the functions for computing transit:\n",
    "\n",
    "include(\"../src/integrate_lightcurve.jl\")\n",
    "include(\"../test/loglinspace.jl\")\n",
    "\n",
    "# Using the Optim.jl package:\n",
    "using Optim"
   ]
  },
  {
   "cell_type": "code",
   "execution_count": 3,
   "metadata": {},
   "outputs": [
    {
     "name": "stdout",
     "output_type": "stream",
     "text": [
      "T from NexSci: 1.5693 T computed: 1.568868764493586\n"
     ]
    }
   ],
   "source": [
    "# Specify parameters appropriate for KOI-984.01.\n",
    "# Plucking these from NexSci Kepler candidate archive.\n",
    "\n",
    "# Radius ratio:\n",
    "r = 0.025717\n",
    "# Ratio of semi-major axis to stellar radius:\n",
    "aonr = 19.94\n",
    "# Orbital period [d]:\n",
    "period = 4.28746668\n",
    "# Impact parameter:\n",
    "b0 = 0.374\n",
    "# Transit duration [hr] (this is time between first and fourth contact):\n",
    "T = 1.5693\n",
    "\n",
    "# Check that these agree.  Compute velocity:\n",
    "v = 2*pi*aonr/period\n",
    "# Transit duration [convert to hr], approximate:\n",
    "T0 = 2*sqrt((1+r)^2-b0^2)/v*24\n",
    "\n",
    "println(\"T from NexSci: \",T,\" T computed: \",T0)"
   ]
  },
  {
   "cell_type": "code",
   "execution_count": 4,
   "metadata": {},
   "outputs": [
    {
     "data": {
      "text/plain": [
       "-2.3539499999999998:0.03362785714285714:2.3539499999999998"
      ]
     },
     "execution_count": 4,
     "metadata": {},
     "output_type": "execute_result"
    }
   ],
   "source": [
    "# Now to simulate transit.  Assume a 2-minute cadence:\n",
    "tobs = 3*T  # Observation duration in hours\n",
    "nobs = convert(Int64,round(tobs*30))  # Number of data points\n",
    "tstep = linearspace(-1.5*T,1.5*T,nobs)  # Time array in units of hours"
   ]
  },
  {
   "cell_type": "code",
   "execution_count": 5,
   "metadata": {},
   "outputs": [
    {
     "data": {
      "text/plain": [
       "2-element Array{Float64,1}:\n",
       " 0.1914\n",
       " 0.5167"
      ]
     },
     "execution_count": 5,
     "metadata": {},
     "output_type": "execute_result"
    }
   ],
   "source": [
    "# Now compute the lightcurve.  We'll integrate a\n",
    "# limb-darkened transit. Set the limb-darkening parameters:\n",
    "\n",
    "u1 = 0.1914\n",
    "u2 = 0.5167\n",
    "u_n = [u1,u2]  # Quadratic limb-darkening parameters"
   ]
  },
  {
   "cell_type": "code",
   "execution_count": 6,
   "metadata": {},
   "outputs": [],
   "source": [
    "# We'll use the function integrate_lightcurve to compute the light curve.\n",
    "# First, we'll set the parameters of the transit:\n",
    "\n",
    "trans = transit_init(r,b0,u_n,true)  # Initialize transit structure with radius\n",
    "# ratio, an initial impact parameter value, limb-darkening parameter array, and\n",
    "# whether we compute derivatives or not (in this case false)\n",
    "\n",
    "param_path = [0.0,v/24,b0]   # Dynamical parameters of the transit: [t_0,v,b_0]\n",
    "dt = 2/60  # Transit exposure time is 2 minutes, convert to hours.\n",
    "\n",
    "# Set up arrays to hold various parameters:\n",
    "favg1 = Array{Float64,2}(undef,7,nobs)  # Time-averaged flux per integration time, as well as gradient\n",
    "maxdepth = 6  # Maximum depth of adaptive integration\n",
    "neval_t = Array{Int64,1}(undef,nobs)  # Number of evaluations of transit model per integration\n",
    "depthmax = Array{Int64,1}(undef,nobs)  # Maximum depth achieved during adaptive integration at each cadence\n",
    "nt = nobs  # Number of observations = number of times\n",
    "tol = 1e-6  # Tolerance set for adaptive integration\n",
    "t = Array{Float64,1}(undef,nobs)\n",
    "t .= tstep\n",
    "\n",
    "# Create a simulated light curve, storing in favg1:\n",
    "integrate_lightcurve!(trans,param_path,t,dt,favg1,nt,tol,maxdepth,neval_t,depthmax)"
   ]
  },
  {
   "cell_type": "code",
   "execution_count": 7,
   "metadata": {},
   "outputs": [
    {
     "data": {
      "text/plain": [
       "3-element Array{Float64,1}:\n",
       " 0.0              \n",
       " 1.217567431384689\n",
       " 0.374            "
      ]
     },
     "execution_count": 7,
     "metadata": {},
     "output_type": "execute_result"
    }
   ],
   "source": [
    "# Create an array to hold the five transit parameters:\n",
    "# [r,t0,v,b0,q1,q2,f0]:\n",
    "f0 = 1.0\n",
    "param_original = [trans.r;param_path;u1;u2;f0]  # These are parameters for simulating the transit\n",
    "param_path_original = copy(param_path)"
   ]
  },
  {
   "cell_type": "code",
   "execution_count": 8,
   "metadata": {},
   "outputs": [],
   "source": [
    "# Add noise to the data:\n",
    "sigma = 2e-4\n",
    "invsig2 = 1/sigma^2\n",
    "# Add to the model flux Gaussian random noise with standard devation of sigma:\n",
    "fobs = f0*favg1[1,:] .+ randn(nobs)*sigma;"
   ]
  },
  {
   "cell_type": "code",
   "execution_count": 9,
   "metadata": {},
   "outputs": [
    {
     "data": {
      "text/plain": [
       "optimize_transit (generic function with 1 method)"
      ]
     },
     "execution_count": 9,
     "metadata": {},
     "output_type": "execute_result"
    }
   ],
   "source": [
    "# Create a closure function to carry out the optimization:\n",
    "function optimize_transit(trans,param_path,param_all,t,fobs,favg1,dt,nt,tol,maxdepth)\n",
    "    # Create a function to compute the likelihood called by Optim.\n",
    "    # This is written to avoid re-computation of function and gradient\n",
    "    # See here for the code this was modelled after: \n",
    "    #    http://julianlsolvers.github.io/Optim.jl/stable/#user/tipsandtricks/\n",
    "    function compute_likelihood!(F,G,param_all)\n",
    "        # Pass parameters from param_all to transit structure:\n",
    "        trans = transit_init(param_all[1],param_all[4],param_all[5:6],true)\n",
    "        param_path .= param_all[2:4]  # Pass the dynamical parameters to param_path\n",
    "        # Set the unocculted flux:\n",
    "        f0 = param_all[7]\n",
    "        # Integrate the lightcurve:\n",
    "        integrate_lightcurve!(trans,param_path,t,dt,favg1,nt,tol,maxdepth,neval_t,depthmax)\n",
    "        # Return the gradient of the chi-square:\n",
    "        if G != nothing\n",
    "            fill!(G,0.0)\n",
    "            nG = size(G)[1]\n",
    "            for j=1:nG-1\n",
    "                # Compute gradient by taking dot product of residual vector with gradient:\n",
    "                G[j] += -2*dot((fobs.-f0*favg1[1,:]),f0*favg1[1+j,:])*invsig2\n",
    "            end\n",
    "            G[nG] = -2*dot((fobs.-f0*favg1[1,:]),favg1[1,:])*invsig2\n",
    "        end\n",
    "        if F != nothing\n",
    "            # Compute the negative log-likelihood, which in this case is the chi-square:\n",
    "            nll = sum((fobs.-f0*favg1[1,:]).^2)*invsig2\n",
    "            return nll\n",
    "        end \n",
    "    end\n",
    "    # Set bounds:\n",
    "    lower = [1e-3,-1.0,1e-3,0.0,0.0,0.0,0.5]\n",
    "    upper = [1e3,  1.0,1e3, 1.1,1.0,1.0,2.0]\n",
    "    # Now, optimize the fit to the data:\n",
    "    inner_optimizer = LBFGS()\n",
    "    #result = Optim.optimize(Optim.only_fg!(compute_likelihood!),lower,upper,param_all,Optim.LBFGS())\n",
    "    result = Optim.optimize(Optim.only_fg!(compute_likelihood!),lower,upper,param_all,Fminbox(inner_optimizer))\n",
    "    return result\n",
    "end"
   ]
  },
  {
   "cell_type": "code",
   "execution_count": 10,
   "metadata": {},
   "outputs": [
    {
     "data": {
      "text/plain": [
       "141-element Array{Float64,1}:\n",
       " 1.0002546214021197\n",
       " 1.0002546214021197\n",
       " 1.0002546214021197\n",
       " 1.0002546214021197\n",
       " 1.0002546214021197\n",
       " 1.0002546214021197\n",
       " 1.0002546214021197\n",
       " 1.0002546214021197\n",
       " 1.0002546214021197\n",
       " 1.0002546214021197\n",
       " 1.0002546214021197\n",
       " 1.0002546214021197\n",
       " 1.0002546214021197\n",
       " ⋮                 \n",
       " 1.0002546214021197\n",
       " 1.0002546214021197\n",
       " 1.0002546214021197\n",
       " 1.0002546214021197\n",
       " 1.0002546214021197\n",
       " 1.0002546214021197\n",
       " 1.0002546214021197\n",
       " 1.0002546214021197\n",
       " 1.0002546214021197\n",
       " 1.0002546214021197\n",
       " 1.0002546214021197\n",
       " 1.0002546214021197"
      ]
     },
     "execution_count": 10,
     "metadata": {},
     "output_type": "execute_result"
    }
   ],
   "source": [
    "# Set the initial conditions. First, copy over the correct parameters:\n",
    "param_all = copy(param_original)\n",
    "\n",
    "# Add some random offset values to the intitial conditions:\n",
    "param_all[1] *= (1+randn()*0.1)   # Add 10% error to radius\n",
    "param_all[2] += randn()*0.3       # Add 18-minute error to initial time\n",
    "param_all[3] *= (1+randn()*0.1)   # Add 10% error to velocity\n",
    "param_all[4:6] = rand(3)          # Randomly choose impact parameter & limb-darkening params between 0 and 1\n",
    "param_all[7] *= (1+randn()*0.0003) # Add 0.03% error to the unocculted flux\n",
    "\n",
    "\n",
    "\n",
    "# Compute perturbed lightcurve:\n",
    "trans_pert = transit_init(param_all[1],param_all[4],param_all[5:6],true)\n",
    "param_path_pert = param_all[2:4]\n",
    "favg_pert = copy(favg1)\n",
    "\n",
    "integrate_lightcurve!(trans_pert,param_path_pert,t,dt,favg_pert,nt,tol,maxdepth,neval_t,depthmax)\n",
    "favg_pert[1,:] *= param_all[7]"
   ]
  },
  {
   "cell_type": "code",
   "execution_count": 11,
   "metadata": {},
   "outputs": [
    {
     "data": {
      "text/plain": [
       "Results of Optimization Algorithm\n",
       " * Algorithm: Fminbox with L-BFGS\n",
       " * Starting Point: [0.02014404876033681,0.06727589315305517, ...]\n",
       " * Minimizer: [0.02544652421441487,0.009684320418497393, ...]\n",
       " * Minimum: 1.373465e+02\n",
       " * Iterations: 8\n",
       " * Convergence: true\n",
       "   * |x - x'| ≤ 0.0e+00: true \n",
       "     |x - x'| = 0.00e+00 \n",
       "   * |f(x) - f(x')| ≤ 0.0e+00 |f(x)|: true\n",
       "     |f(x) - f(x')| = 0.00e+00 |f(x)|\n",
       "   * |g(x)| ≤ 1.0e-08: false \n",
       "     |g(x)| = 5.71e-01 \n",
       "   * Stopped by an increasing objective: true\n",
       "   * Reached Maximum Number of Iterations: false\n",
       " * Objective Calls: 8232\n",
       " * Gradient Calls: 8232"
      ]
     },
     "execution_count": 11,
     "metadata": {},
     "output_type": "execute_result"
    }
   ],
   "source": [
    "# Copy the flux & derivative array:\n",
    "favg2 = copy(favg1)\n",
    "# Optimize the result:\n",
    "result =  optimize_transit(trans_pert,param_path_pert,param_all,t,fobs,favg2,dt,nt,tol,maxdepth)\n",
    "\n",
    "# NOTE:  Sometimes the intitial \"perturbed\" parameters will be so far off that\n",
    "# the optimization fails.  In this case, rerun the prior cell and this cell\n",
    "# until the optimization succeeds."
   ]
  },
  {
   "cell_type": "code",
   "execution_count": 12,
   "metadata": {},
   "outputs": [
    {
     "data": {
      "text/plain": [
       "7-element Array{Float64,1}:\n",
       " 0.02544652421441487   \n",
       " 0.009684320418497393  \n",
       " 1.1866701055191495    \n",
       " 0.4631980459377428    \n",
       " 0.013990389922080378  \n",
       " 4.0069662074883184e-16\n",
       " 0.9999650616938898    "
      ]
     },
     "execution_count": 12,
     "metadata": {},
     "output_type": "execute_result"
    }
   ],
   "source": [
    "param_all_final = Optim.minimizer(result)"
   ]
  },
  {
   "cell_type": "code",
   "execution_count": 13,
   "metadata": {},
   "outputs": [],
   "source": [
    "param_path_final = param_all_final[2:4]\n",
    "trans_final = transit_init(param_all_final[1],param_all_final[4],param_all_final[5:6],true)\n",
    "integrate_lightcurve!(trans_final,param_path_final,t,dt,favg2,nt,tol,maxdepth,neval_t,depthmax)\n",
    "favg2[1,:] *= param_all_final[7];"
   ]
  },
  {
   "cell_type": "code",
   "execution_count": 14,
   "metadata": {},
   "outputs": [
    {
     "data": {
      "image/png": "[encoded data removed]",
      "text/plain": [
       "Figure(PyObject <Figure size 640x480 with 1 Axes>)"
      ]
     },
     "metadata": {},
     "output_type": "display_data"
    },
    {
     "data": {
      "text/plain": [
       "4-element Array{Float64,1}:\n",
       " -2.5   \n",
       "  2.5   \n",
       "  0.999 \n",
       "  1.0005"
      ]
     },
     "execution_count": 14,
     "metadata": {},
     "output_type": "execute_result"
    }
   ],
   "source": [
    "# Plot noise-free light curve:\n",
    "using PyPlot\n",
    "using Statistics\n",
    "clf()\n",
    "plot(t,favg1[1,:], label=\"noise-free\")\n",
    "\n",
    "# Plot noisy curve:\n",
    "plot(t,fobs,\".\",label=\"noisy\")\n",
    "\n",
    "# Plot \"perturbed\" lightcurve (with initial guessed parameters):\n",
    "plot(t,favg_pert[1,:],label=\"perturbed\")\n",
    "\n",
    "# Plot best-fit curve:\n",
    "plot(t,favg2[1,:],label=\"recovered\",linestyle=\":\")\n",
    "\n",
    "# Plot binned data:\n",
    "tbin = zeros(14); fbin = zeros(14)\n",
    "for i=1:14\n",
    "    tbin[i] = mean(t[(i-1)*10+1:i*10])\n",
    "    fbin[i] = mean(fobs[(i-1)*10+1:i*10])\n",
    "end\n",
    "# Plot binned points with large dots:\n",
    "plot(tbin,fbin,\"o\",label=\"binned 20-min\")\n",
    "legend()\n",
    "axis([-2.5,2.5,0.999,1.0005])\n"
   ]
  },
  {
   "cell_type": "code",
   "execution_count": 194,
   "metadata": {},
   "outputs": [
    {
     "data": {
      "text/plain": [
       "7-element Array{Float64,1}:\n",
       " 0.025717         \n",
       " 0.0              \n",
       " 1.217567431384689\n",
       " 0.374            \n",
       " 0.1914           \n",
       " 0.5167           \n",
       " 1.0              "
      ]
     },
     "execution_count": 194,
     "metadata": {},
     "output_type": "execute_result"
    }
   ],
   "source": [
    "param_original"
   ]
  },
  {
   "cell_type": "code",
   "execution_count": 195,
   "metadata": {},
   "outputs": [
    {
     "data": {
      "text/plain": [
       "7-element Array{Float64,1}:\n",
       " 0.024788760648733314 \n",
       " 0.003630846469602858 \n",
       " 1.2736956296103525   \n",
       " 4.903587869840479e-6 \n",
       " 0.6814255422378264   \n",
       " 3.3592464613253033e-9\n",
       " 0.9999804563650685   "
      ]
     },
     "execution_count": 195,
     "metadata": {},
     "output_type": "execute_result"
    }
   ],
   "source": [
    "param_all_final"
   ]
  },
  {
   "cell_type": "code",
   "execution_count": 196,
   "metadata": {},
   "outputs": [
    {
     "data": {
      "text/plain": [
       "7-element Array{Float64,1}:\n",
       "  0.0009282393512666867\n",
       " -0.003630846469602858 \n",
       " -0.05612819822566362  \n",
       "  0.37399509641213013  \n",
       " -0.49002554223782635  \n",
       "  0.5166999966407536   \n",
       "  1.9543634931507015e-5"
      ]
     },
     "execution_count": 196,
     "metadata": {},
     "output_type": "execute_result"
    }
   ],
   "source": [
    "param_original-param_all_final"
   ]
  },
  {
   "cell_type": "code",
   "execution_count": 197,
   "metadata": {},
   "outputs": [
    {
     "data": {
      "image/png": "[encoded data removed]",
      "text/plain": [
       "Figure(PyObject <Figure size 640x480 with 1 Axes>)"
      ]
     },
     "metadata": {},
     "output_type": "display_data"
    },
    {
     "data": {
      "text/plain": [
       "1-element Array{PyCall.PyObject,1}:\n",
       " PyObject <matplotlib.lines.Line2D object at 0x144993eb8>"
      ]
     },
     "execution_count": 197,
     "metadata": {},
     "output_type": "execute_result"
    }
   ],
   "source": [
    "plot(favg1[1,:]-favg2[1,:])"
   ]
  },
  {
   "cell_type": "code",
   "execution_count": 198,
   "metadata": {},
   "outputs": [
    {
     "data": {
      "text/plain": [
       "3-element Array{Float64,1}:\n",
       " 0.0              \n",
       " 1.217567431384689\n",
       " 0.374            "
      ]
     },
     "execution_count": 198,
     "metadata": {},
     "output_type": "execute_result"
    }
   ],
   "source": [
    "param_path_original"
   ]
  },
  {
   "cell_type": "code",
   "execution_count": 199,
   "metadata": {},
   "outputs": [
    {
     "data": {
      "text/plain": [
       "3-element Array{Float64,1}:\n",
       " 0.003630846469602858\n",
       " 1.2736956296103525  \n",
       " 4.903587869840479e-6"
      ]
     },
     "execution_count": 199,
     "metadata": {},
     "output_type": "execute_result"
    }
   ],
   "source": [
    "param_path_final"
   ]
  },
  {
   "cell_type": "code",
   "execution_count": null,
   "metadata": {},
   "outputs": [],
   "source": []
  },
  {
   "cell_type": "code",
   "execution_count": null,
   "metadata": {},
   "outputs": [],
   "source": []
  }
 ],
 "metadata": {
  "kernelspec": {
   "display_name": "Julia 1.0.1",
   "language": "julia",
   "name": "julia-1.0"
  },
  "language_info": {
   "file_extension": ".jl",
   "mimetype": "application/julia",
   "name": "julia",
   "version": "1.0.1"
  }
 },
 "nbformat": 4,
 "nbformat_minor": 2
}
